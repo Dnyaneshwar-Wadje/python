{
 "cells": [
  {
   "cell_type": "code",
   "execution_count": 8,
   "id": "29a6d917",
   "metadata": {},
   "outputs": [],
   "source": [
    "def ab(*args):\n",
    "    p=1\n",
    "    for i in args:\n",
    "        print(i)\n",
    "        p=p*i\n",
    "    return f\"product is {p}\"    "
   ]
  },
  {
   "cell_type": "code",
   "execution_count": 10,
   "id": "3baec001",
   "metadata": {},
   "outputs": [
    {
     "name": "stdout",
     "output_type": "stream",
     "text": [
      "2\n",
      "4\n",
      "8\n",
      "2\n"
     ]
    },
    {
     "data": {
      "text/plain": [
       "'product is 128'"
      ]
     },
     "execution_count": 10,
     "metadata": {},
     "output_type": "execute_result"
    }
   ],
   "source": [
    "ab(2,4,8,2)"
   ]
  },
  {
   "cell_type": "code",
   "execution_count": null,
   "id": "e7c9f88e",
   "metadata": {},
   "outputs": [],
   "source": []
  },
  {
   "cell_type": "code",
   "execution_count": null,
   "id": "08c8cd99",
   "metadata": {},
   "outputs": [],
   "source": []
  },
  {
   "cell_type": "code",
   "execution_count": null,
   "id": "c6d581a0",
   "metadata": {},
   "outputs": [],
   "source": []
  },
  {
   "cell_type": "code",
   "execution_count": null,
   "id": "a71c9f60",
   "metadata": {},
   "outputs": [],
   "source": []
  }
 ],
 "metadata": {
  "kernelspec": {
   "display_name": "venv",
   "language": "python",
   "name": "python3"
  },
  "language_info": {
   "codemirror_mode": {
    "name": "ipython",
    "version": 3
   },
   "file_extension": ".py",
   "mimetype": "text/x-python",
   "name": "python",
   "nbconvert_exporter": "python",
   "pygments_lexer": "ipython3",
   "version": "3.13.3"
  }
 },
 "nbformat": 4,
 "nbformat_minor": 5
}
