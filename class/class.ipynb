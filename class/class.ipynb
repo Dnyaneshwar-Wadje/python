{
 "cells": [
  {
   "cell_type": "code",
   "execution_count": 2,
   "id": "7ea31361",
   "metadata": {},
   "outputs": [],
   "source": [
    "class person:\n",
    "    def __init__(self,name,age,gender,occupation):\n",
    "        self.name=name\n",
    "        self.age=age\n",
    "        self.gender=gender\n",
    "        self.occupation=occupation \n",
    "    \n",
    "    def introduce(self):\n",
    "        print(f\"Hi, my name is {self.name}. I am {self.age} years old. I work for {self.occupation} organization\")\n",
    "\n",
    "    def work(self):\n",
    "        print(f\"my work hours are 10am-8pm\")\n",
    "    \n",
    "    def hobbies(self):\n",
    "        print(f\"my hobbies are watching movie\")"
   ]
  },
  {
   "cell_type": "code",
   "execution_count": 3,
   "id": "4bfdf198",
   "metadata": {},
   "outputs": [],
   "source": [
    "p1=person(\"deepak\",25,\"male\",\"tcs\")"
   ]
  },
  {
   "cell_type": "code",
   "execution_count": 4,
   "id": "967c94f1",
   "metadata": {},
   "outputs": [
    {
     "data": {
      "text/plain": [
       "25"
      ]
     },
     "execution_count": 4,
     "metadata": {},
     "output_type": "execute_result"
    }
   ],
   "source": [
    "p1.age"
   ]
  },
  {
   "cell_type": "code",
   "execution_count": 7,
   "id": "e309beb2",
   "metadata": {},
   "outputs": [
    {
     "name": "stdout",
     "output_type": "stream",
     "text": [
      "Hi, my name is deepak. I am 25 years old. I work for tcs organization\n"
     ]
    }
   ],
   "source": [
    "p1.introduce()"
   ]
  },
  {
   "cell_type": "markdown",
   "id": "f554a215",
   "metadata": {},
   "source": [
    "\n",
    "Create a class bank account with attributes as account holder name, balance ,account number Define below methods : withdrawal deposit transfer"
   ]
  },
  {
   "cell_type": "code",
   "execution_count": 12,
   "id": "f9d9580c",
   "metadata": {},
   "outputs": [],
   "source": [
    "class bank_account:\n",
    "    \n",
    "    def __init__(self,account_number,account_holder_name,balance):\n",
    "        self.account_number=account_number\n",
    "        self.account_holder_name=account_holder_name\n",
    "        self.balance=balance\n",
    "    \n",
    "\n",
    "    def deposit(self,amount):\n",
    "        self.balance=self.balance+amount\n",
    "        return f\"amount got deposited to {self.account_number}. your new balance is {self.balance}\"\n",
    "    \n",
    "    def withdrawal(self,amount):\n",
    "        self.balance=self.balance-amount\n",
    "        return f\"amount got deducated from {self.account_number}. your new balance is {self.balance}\"\n",
    "\n",
    "\n"
   ]
  },
  {
   "cell_type": "code",
   "execution_count": 13,
   "id": "63aececb",
   "metadata": {},
   "outputs": [],
   "source": [
    "b1=bank_account(456287818,\"deepak kumar\",48455484)"
   ]
  },
  {
   "cell_type": "code",
   "execution_count": 14,
   "id": "98a92f35",
   "metadata": {},
   "outputs": [
    {
     "data": {
      "text/plain": [
       "'deepak kumar'"
      ]
     },
     "execution_count": 14,
     "metadata": {},
     "output_type": "execute_result"
    }
   ],
   "source": [
    "b1.account_holder_name"
   ]
  },
  {
   "cell_type": "code",
   "execution_count": 15,
   "id": "6fdc3684",
   "metadata": {},
   "outputs": [
    {
     "data": {
      "text/plain": [
       "48455484"
      ]
     },
     "execution_count": 15,
     "metadata": {},
     "output_type": "execute_result"
    }
   ],
   "source": [
    "b1.balance"
   ]
  },
  {
   "cell_type": "code",
   "execution_count": 16,
   "id": "396609ad",
   "metadata": {},
   "outputs": [
    {
     "data": {
      "text/plain": [
       "'amount got deducated from 456287818. your new balance is 47998900'"
      ]
     },
     "execution_count": 16,
     "metadata": {},
     "output_type": "execute_result"
    }
   ],
   "source": [
    "b1.withdrawal(456584)"
   ]
  },
  {
   "cell_type": "code",
   "execution_count": 17,
   "id": "67bf8257",
   "metadata": {},
   "outputs": [
    {
     "data": {
      "text/plain": [
       "47998900"
      ]
     },
     "execution_count": 17,
     "metadata": {},
     "output_type": "execute_result"
    }
   ],
   "source": [
    "b1.balance"
   ]
  },
  {
   "cell_type": "code",
   "execution_count": null,
   "id": "846dd9ed",
   "metadata": {},
   "outputs": [],
   "source": []
  }
 ],
 "metadata": {
  "kernelspec": {
   "display_name": "venv",
   "language": "python",
   "name": "python3"
  },
  "language_info": {
   "codemirror_mode": {
    "name": "ipython",
    "version": 3
   },
   "file_extension": ".py",
   "mimetype": "text/x-python",
   "name": "python",
   "nbconvert_exporter": "python",
   "pygments_lexer": "ipython3",
   "version": "3.13.3"
  }
 },
 "nbformat": 4,
 "nbformat_minor": 5
}
